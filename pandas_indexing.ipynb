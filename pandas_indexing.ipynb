{
 "cells": [
  {
   "cell_type": "code",
   "execution_count": null,
   "metadata": {},
   "outputs": [],
   "source": [
    "# assuming yesterday's cases are always >= 0\n",
    "for i, row in combined_data.iterrows():\n",
    "    if row['new_cases'] < 0:\n",
    "        state = row['state']\n",
    "        today = row['date']\n",
    "        day_before = today - datetime.timedelta(days=1)\n",
    "\n",
    "        # find yesterday's cases\n",
    "        new_cases = combined_data[(combined_data['state'] == state) & \n",
    "                              (combined_data['date'] == day_before)]['new_cases']\n",
    "\n",
    "        # set today's cases equal to yesterday's\n",
    "        combined_data.loc[(combined_data['state'] == state) & \n",
    "                      (combined_data['date'] == today), new_cases] = 0"
   ]
  },
  {
   "cell_type": "code",
   "execution_count": null,
   "metadata": {},
   "outputs": [],
   "source": [
    "for i, row in combined_data.iterrows():\n",
    "    if row['new_cases'] < 0:\n",
    "        state = row['state']\n",
    "        today = row['date']\n",
    "        day_before = today - datetime.timedelta(days=1)\n",
    "        \n",
    "        # get df prior to today for this state\n",
    "        \n",
    "        # subset to where cases >= 0\n",
    "        \n",
    "        # find the max (latest) day\n",
    "        max_day = <>\n",
    "\n",
    "        # find that day's cases\n",
    "        max_day_cases = combined_data[(combined_data['state'] == state) & \n",
    "                              (combined_data['date'] == max_day)]['new_cases']\n",
    "\n",
    "        # set today's cases equal to yesterday's\n",
    "        combined_data.loc[(combined_data['state'] == state) & \n",
    "                      (combined_data['date'] == today), new_cases] = 0"
   ]
  },
  {
   "cell_type": "code",
   "execution_count": null,
   "metadata": {},
   "outputs": [],
   "source": []
  },
  {
   "cell_type": "code",
   "execution_count": null,
   "metadata": {},
   "outputs": [],
   "source": [
    "combined_data['total_cases'] = combined_data.groupby('state')['new_cases'].cumsum()\n",
    "  "
   ]
  },
  {
   "cell_type": "code",
   "execution_count": null,
   "metadata": {},
   "outputs": [],
   "source": [
    "combined_data['population'] = combined_data[''] / combined_data['']"
   ]
  },
  {
   "cell_type": "code",
   "execution_count": null,
   "metadata": {},
   "outputs": [],
   "source": [
    "# calculate each state's population\n",
    "population_df = combined_data['state'].uniques()\n",
    "\n",
    "# add population to this\n",
    "population_df['population'] = <something>\n",
    "\n",
    "\n",
    "# create new population column with every row for each state filled with the calculated population\n",
    "# https://stackoverflow.com/questions/29794959/pandas-add-new-column-to-dataframe-from-dictionary\n",
    "\n",
    "for i, row in combined_data.iterrows():\n",
    "    state = row['state']\n",
    "    state_population = population_df[population_df['state'] == state]['population']\n",
    "    \n",
    "    combined_data.loc[i, 'population'] = state_population"
   ]
  },
  {
   "cell_type": "code",
   "execution_count": null,
   "metadata": {},
   "outputs": [],
   "source": [
    "# calculate each state's population\n",
    "population_df = combined_data['state'].uniques()\n",
    "\n",
    "# add population to this\n",
    "population_df['population'] = <something>\n",
    "\n",
    "\n",
    "# loop through states\n",
    "for state in population_df['state'].tolist():\n",
    "    state_population = population_df[population_df['state'] == state]['population']\n",
    "    \n",
    "    combined_data.loc[combined_data['state'] == state, 'population'] = state_population"
   ]
  },
  {
   "cell_type": "code",
   "execution_count": null,
   "metadata": {},
   "outputs": [],
   "source": []
  },
  {
   "cell_type": "code",
   "execution_count": null,
   "metadata": {},
   "outputs": [],
   "source": []
  }
 ],
 "metadata": {
  "kernelspec": {
   "display_name": "Python 3",
   "language": "python",
   "name": "python3"
  },
  "language_info": {
   "codemirror_mode": {
    "name": "ipython",
    "version": 3
   },
   "file_extension": ".py",
   "mimetype": "text/x-python",
   "name": "python",
   "nbconvert_exporter": "python",
   "pygments_lexer": "ipython3",
   "version": "3.8.5"
  }
 },
 "nbformat": 4,
 "nbformat_minor": 4
}
