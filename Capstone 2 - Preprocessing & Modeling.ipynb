{
 "cells": [
  {
   "cell_type": "code",
   "execution_count": 1,
   "metadata": {},
   "outputs": [],
   "source": [
    "import numpy as np\n",
    "import pandas as pd\n",
    "import matplotlib.pyplot as plt\n",
    "import seaborn as sns\n",
    "from datetime import datetime, timedelta"
   ]
  },
  {
   "cell_type": "code",
   "execution_count": 2,
   "metadata": {},
   "outputs": [],
   "source": [
    "data = pd.read_csv('data/combined_data_cleaned.csv')"
   ]
  },
  {
   "cell_type": "code",
   "execution_count": 3,
   "metadata": {},
   "outputs": [
    {
     "data": {
      "text/html": [
       "<div>\n",
       "<style scoped>\n",
       "    .dataframe tbody tr th:only-of-type {\n",
       "        vertical-align: middle;\n",
       "    }\n",
       "\n",
       "    .dataframe tbody tr th {\n",
       "        vertical-align: top;\n",
       "    }\n",
       "\n",
       "    .dataframe thead th {\n",
       "        text-align: right;\n",
       "    }\n",
       "</style>\n",
       "<table border=\"1\" class=\"dataframe\">\n",
       "  <thead>\n",
       "    <tr style=\"text-align: right;\">\n",
       "      <th></th>\n",
       "      <th>date</th>\n",
       "      <th>state</th>\n",
       "      <th>total_vaccinations</th>\n",
       "      <th>total_distributed</th>\n",
       "      <th>people_vaccinated</th>\n",
       "      <th>people_fully_vaccinated_per_hundred</th>\n",
       "      <th>total_vaccinations_per_hundred</th>\n",
       "      <th>people_fully_vaccinated</th>\n",
       "      <th>people_vaccinated_per_hundred</th>\n",
       "      <th>distributed_per_hundred</th>\n",
       "      <th>daily_vaccinations_raw</th>\n",
       "      <th>daily_vaccinations_per_million</th>\n",
       "      <th>share_doses_used</th>\n",
       "      <th>fips</th>\n",
       "      <th>deaths</th>\n",
       "      <th>new_cases</th>\n",
       "      <th>total_cases</th>\n",
       "      <th>population</th>\n",
       "    </tr>\n",
       "  </thead>\n",
       "  <tbody>\n",
       "    <tr>\n",
       "      <th>0</th>\n",
       "      <td>2020-01-21</td>\n",
       "      <td>Washington</td>\n",
       "      <td>NaN</td>\n",
       "      <td>NaN</td>\n",
       "      <td>NaN</td>\n",
       "      <td>NaN</td>\n",
       "      <td>NaN</td>\n",
       "      <td>NaN</td>\n",
       "      <td>NaN</td>\n",
       "      <td>NaN</td>\n",
       "      <td>NaN</td>\n",
       "      <td>NaN</td>\n",
       "      <td>NaN</td>\n",
       "      <td>53</td>\n",
       "      <td>0</td>\n",
       "      <td>1</td>\n",
       "      <td>1</td>\n",
       "      <td>7614800</td>\n",
       "    </tr>\n",
       "    <tr>\n",
       "      <th>1</th>\n",
       "      <td>2020-01-22</td>\n",
       "      <td>Washington</td>\n",
       "      <td>NaN</td>\n",
       "      <td>NaN</td>\n",
       "      <td>NaN</td>\n",
       "      <td>NaN</td>\n",
       "      <td>NaN</td>\n",
       "      <td>NaN</td>\n",
       "      <td>NaN</td>\n",
       "      <td>NaN</td>\n",
       "      <td>NaN</td>\n",
       "      <td>NaN</td>\n",
       "      <td>NaN</td>\n",
       "      <td>53</td>\n",
       "      <td>0</td>\n",
       "      <td>0</td>\n",
       "      <td>1</td>\n",
       "      <td>7614800</td>\n",
       "    </tr>\n",
       "    <tr>\n",
       "      <th>2</th>\n",
       "      <td>2020-01-23</td>\n",
       "      <td>Washington</td>\n",
       "      <td>NaN</td>\n",
       "      <td>NaN</td>\n",
       "      <td>NaN</td>\n",
       "      <td>NaN</td>\n",
       "      <td>NaN</td>\n",
       "      <td>NaN</td>\n",
       "      <td>NaN</td>\n",
       "      <td>NaN</td>\n",
       "      <td>NaN</td>\n",
       "      <td>NaN</td>\n",
       "      <td>NaN</td>\n",
       "      <td>53</td>\n",
       "      <td>0</td>\n",
       "      <td>0</td>\n",
       "      <td>1</td>\n",
       "      <td>7614800</td>\n",
       "    </tr>\n",
       "    <tr>\n",
       "      <th>3</th>\n",
       "      <td>2020-01-24</td>\n",
       "      <td>Illinois</td>\n",
       "      <td>NaN</td>\n",
       "      <td>NaN</td>\n",
       "      <td>NaN</td>\n",
       "      <td>NaN</td>\n",
       "      <td>NaN</td>\n",
       "      <td>NaN</td>\n",
       "      <td>NaN</td>\n",
       "      <td>NaN</td>\n",
       "      <td>NaN</td>\n",
       "      <td>NaN</td>\n",
       "      <td>NaN</td>\n",
       "      <td>17</td>\n",
       "      <td>0</td>\n",
       "      <td>1</td>\n",
       "      <td>1</td>\n",
       "      <td>12672400</td>\n",
       "    </tr>\n",
       "    <tr>\n",
       "      <th>4</th>\n",
       "      <td>2020-01-24</td>\n",
       "      <td>Washington</td>\n",
       "      <td>NaN</td>\n",
       "      <td>NaN</td>\n",
       "      <td>NaN</td>\n",
       "      <td>NaN</td>\n",
       "      <td>NaN</td>\n",
       "      <td>NaN</td>\n",
       "      <td>NaN</td>\n",
       "      <td>NaN</td>\n",
       "      <td>NaN</td>\n",
       "      <td>NaN</td>\n",
       "      <td>NaN</td>\n",
       "      <td>53</td>\n",
       "      <td>0</td>\n",
       "      <td>0</td>\n",
       "      <td>1</td>\n",
       "      <td>7614800</td>\n",
       "    </tr>\n",
       "  </tbody>\n",
       "</table>\n",
       "</div>"
      ],
      "text/plain": [
       "         date       state  total_vaccinations  total_distributed  \\\n",
       "0  2020-01-21  Washington                 NaN                NaN   \n",
       "1  2020-01-22  Washington                 NaN                NaN   \n",
       "2  2020-01-23  Washington                 NaN                NaN   \n",
       "3  2020-01-24    Illinois                 NaN                NaN   \n",
       "4  2020-01-24  Washington                 NaN                NaN   \n",
       "\n",
       "   people_vaccinated  people_fully_vaccinated_per_hundred  \\\n",
       "0                NaN                                  NaN   \n",
       "1                NaN                                  NaN   \n",
       "2                NaN                                  NaN   \n",
       "3                NaN                                  NaN   \n",
       "4                NaN                                  NaN   \n",
       "\n",
       "   total_vaccinations_per_hundred  people_fully_vaccinated  \\\n",
       "0                             NaN                      NaN   \n",
       "1                             NaN                      NaN   \n",
       "2                             NaN                      NaN   \n",
       "3                             NaN                      NaN   \n",
       "4                             NaN                      NaN   \n",
       "\n",
       "   people_vaccinated_per_hundred  distributed_per_hundred  \\\n",
       "0                            NaN                      NaN   \n",
       "1                            NaN                      NaN   \n",
       "2                            NaN                      NaN   \n",
       "3                            NaN                      NaN   \n",
       "4                            NaN                      NaN   \n",
       "\n",
       "   daily_vaccinations_raw  daily_vaccinations_per_million  share_doses_used  \\\n",
       "0                     NaN                             NaN               NaN   \n",
       "1                     NaN                             NaN               NaN   \n",
       "2                     NaN                             NaN               NaN   \n",
       "3                     NaN                             NaN               NaN   \n",
       "4                     NaN                             NaN               NaN   \n",
       "\n",
       "   fips  deaths  new_cases  total_cases  population  \n",
       "0    53       0          1            1     7614800  \n",
       "1    53       0          0            1     7614800  \n",
       "2    53       0          0            1     7614800  \n",
       "3    17       0          1            1    12672400  \n",
       "4    53       0          0            1     7614800  "
      ]
     },
     "execution_count": 3,
     "metadata": {},
     "output_type": "execute_result"
    }
   ],
   "source": [
    "data.head()"
   ]
  },
  {
   "cell_type": "code",
   "execution_count": 4,
   "metadata": {},
   "outputs": [
    {
     "name": "stdout",
     "output_type": "stream",
     "text": [
      "<class 'pandas.core.frame.DataFrame'>\n",
      "RangeIndex: 26359 entries, 0 to 26358\n",
      "Data columns (total 18 columns):\n",
      " #   Column                               Non-Null Count  Dtype  \n",
      "---  ------                               --------------  -----  \n",
      " 0   date                                 26359 non-null  object \n",
      " 1   state                                26359 non-null  object \n",
      " 2   total_vaccinations                   9020 non-null   float64\n",
      " 3   total_distributed                    9020 non-null   float64\n",
      " 4   people_vaccinated                    9020 non-null   float64\n",
      " 5   people_fully_vaccinated_per_hundred  9020 non-null   float64\n",
      " 6   total_vaccinations_per_hundred       9020 non-null   float64\n",
      " 7   people_fully_vaccinated              9020 non-null   float64\n",
      " 8   people_vaccinated_per_hundred        9020 non-null   float64\n",
      " 9   distributed_per_hundred              9020 non-null   float64\n",
      " 10  daily_vaccinations_raw               9020 non-null   float64\n",
      " 11  daily_vaccinations_per_million       9020 non-null   float64\n",
      " 12  share_doses_used                     9020 non-null   float64\n",
      " 13  fips                                 26359 non-null  int64  \n",
      " 14  deaths                               26359 non-null  int64  \n",
      " 15  new_cases                            26359 non-null  int64  \n",
      " 16  total_cases                          26359 non-null  int64  \n",
      " 17  population                           26359 non-null  int64  \n",
      "dtypes: float64(11), int64(5), object(2)\n",
      "memory usage: 3.6+ MB\n"
     ]
    }
   ],
   "source": [
    "data.info()"
   ]
  },
  {
   "cell_type": "markdown",
   "metadata": {},
   "source": [
    "Preprocessing Section"
   ]
  },
  {
   "cell_type": "code",
   "execution_count": 5,
   "metadata": {},
   "outputs": [],
   "source": [
    "#create new feature that lists the number of new cases based on total population\n",
    "\n",
    "data['new_cases_per_hundred'] = data['new_cases'] / data['population'] * 100"
   ]
  },
  {
   "cell_type": "code",
   "execution_count": 6,
   "metadata": {},
   "outputs": [],
   "source": [
    "#drop all columns that are not relevant to the model\n",
    "\n",
    "model_data = data[['date', 'state', 'people_vaccinated_per_hundred', 'new_cases_per_hundred']]"
   ]
  },
  {
   "cell_type": "code",
   "execution_count": 7,
   "metadata": {
    "scrolled": true
   },
   "outputs": [
    {
     "data": {
      "text/html": [
       "<div>\n",
       "<style scoped>\n",
       "    .dataframe tbody tr th:only-of-type {\n",
       "        vertical-align: middle;\n",
       "    }\n",
       "\n",
       "    .dataframe tbody tr th {\n",
       "        vertical-align: top;\n",
       "    }\n",
       "\n",
       "    .dataframe thead th {\n",
       "        text-align: right;\n",
       "    }\n",
       "</style>\n",
       "<table border=\"1\" class=\"dataframe\">\n",
       "  <thead>\n",
       "    <tr style=\"text-align: right;\">\n",
       "      <th></th>\n",
       "      <th>date</th>\n",
       "      <th>state</th>\n",
       "      <th>people_vaccinated_per_hundred</th>\n",
       "      <th>new_cases_per_hundred</th>\n",
       "    </tr>\n",
       "  </thead>\n",
       "  <tbody>\n",
       "    <tr>\n",
       "      <th>0</th>\n",
       "      <td>2020-01-21</td>\n",
       "      <td>Washington</td>\n",
       "      <td>NaN</td>\n",
       "      <td>0.000013</td>\n",
       "    </tr>\n",
       "    <tr>\n",
       "      <th>1</th>\n",
       "      <td>2020-01-22</td>\n",
       "      <td>Washington</td>\n",
       "      <td>NaN</td>\n",
       "      <td>0.000000</td>\n",
       "    </tr>\n",
       "    <tr>\n",
       "      <th>2</th>\n",
       "      <td>2020-01-23</td>\n",
       "      <td>Washington</td>\n",
       "      <td>NaN</td>\n",
       "      <td>0.000000</td>\n",
       "    </tr>\n",
       "    <tr>\n",
       "      <th>3</th>\n",
       "      <td>2020-01-24</td>\n",
       "      <td>Illinois</td>\n",
       "      <td>NaN</td>\n",
       "      <td>0.000008</td>\n",
       "    </tr>\n",
       "    <tr>\n",
       "      <th>4</th>\n",
       "      <td>2020-01-24</td>\n",
       "      <td>Washington</td>\n",
       "      <td>NaN</td>\n",
       "      <td>0.000000</td>\n",
       "    </tr>\n",
       "  </tbody>\n",
       "</table>\n",
       "</div>"
      ],
      "text/plain": [
       "         date       state  people_vaccinated_per_hundred  \\\n",
       "0  2020-01-21  Washington                            NaN   \n",
       "1  2020-01-22  Washington                            NaN   \n",
       "2  2020-01-23  Washington                            NaN   \n",
       "3  2020-01-24    Illinois                            NaN   \n",
       "4  2020-01-24  Washington                            NaN   \n",
       "\n",
       "   new_cases_per_hundred  \n",
       "0               0.000013  \n",
       "1               0.000000  \n",
       "2               0.000000  \n",
       "3               0.000008  \n",
       "4               0.000000  "
      ]
     },
     "execution_count": 7,
     "metadata": {},
     "output_type": "execute_result"
    }
   ],
   "source": [
    "model_data.head()"
   ]
  },
  {
   "cell_type": "code",
   "execution_count": 8,
   "metadata": {},
   "outputs": [],
   "source": [
    "#We want to predict number of new cases 7 days ahead using the following lag variables:\n",
    "#number of new cases 7 days behind\n",
    "#rolling average of number of new cases from 14 to 7 days behind [7 day rolling average]\n",
    "#rolling average of number of new cases from 10 to 7 days behind [3 day rolling average]\n",
    "#number of people vaccinated 7 days behind"
   ]
  },
  {
   "cell_type": "code",
   "execution_count": 9,
   "metadata": {},
   "outputs": [
    {
     "name": "stderr",
     "output_type": "stream",
     "text": [
      "<ipython-input-9-23ec106eafcf>:3: SettingWithCopyWarning: \n",
      "A value is trying to be set on a copy of a slice from a DataFrame.\n",
      "Try using .loc[row_indexer,col_indexer] = value instead\n",
      "\n",
      "See the caveats in the documentation: https://pandas.pydata.org/pandas-docs/stable/user_guide/indexing.html#returning-a-view-versus-a-copy\n",
      "  model_data['new_cases_per_hundred_t-7'] = model_data['new_cases_per_hundred'].groupby(model_data['state']).shift(periods=7, fill_value=0)\n"
     ]
    }
   ],
   "source": [
    "#number of new cases 7 days behind\n",
    "\n",
    "model_data['new_cases_per_hundred_t-7'] = model_data['new_cases_per_hundred'].groupby(model_data['state']).shift(periods=7, fill_value=0)"
   ]
  },
  {
   "cell_type": "code",
   "execution_count": 10,
   "metadata": {},
   "outputs": [
    {
     "name": "stderr",
     "output_type": "stream",
     "text": [
      "<ipython-input-10-c95414d910fd>:3: SettingWithCopyWarning: \n",
      "A value is trying to be set on a copy of a slice from a DataFrame.\n",
      "Try using .loc[row_indexer,col_indexer] = value instead\n",
      "\n",
      "See the caveats in the documentation: https://pandas.pydata.org/pandas-docs/stable/user_guide/indexing.html#returning-a-view-versus-a-copy\n",
      "  model_data['new_cases_per_hundred_rolling_7'] = model_data['new_cases_per_hundred_t-7'].groupby(model_data['state']).transform(lambda s: s.rolling(7).mean())\n"
     ]
    }
   ],
   "source": [
    "#rolling average of number of new cases from 14 to 7 days behind [7 day rolling average]\n",
    "\n",
    "model_data['new_cases_per_hundred_rolling_7'] = model_data['new_cases_per_hundred_t-7'].groupby(model_data['state']).transform(lambda s: s.rolling(7).mean())"
   ]
  },
  {
   "cell_type": "code",
   "execution_count": 11,
   "metadata": {},
   "outputs": [
    {
     "name": "stderr",
     "output_type": "stream",
     "text": [
      "<ipython-input-11-8682dfda2d4a>:3: SettingWithCopyWarning: \n",
      "A value is trying to be set on a copy of a slice from a DataFrame.\n",
      "Try using .loc[row_indexer,col_indexer] = value instead\n",
      "\n",
      "See the caveats in the documentation: https://pandas.pydata.org/pandas-docs/stable/user_guide/indexing.html#returning-a-view-versus-a-copy\n",
      "  model_data['new_cases_per_hundred_rolling_3'] = model_data['new_cases_per_hundred_t-7'].groupby(model_data['state']).transform(lambda s: s.rolling(3).mean())\n"
     ]
    }
   ],
   "source": [
    "#rolling average of number of new cases from 10 to 7 days behind [3 day rolling average]\n",
    "\n",
    "model_data['new_cases_per_hundred_rolling_3'] = model_data['new_cases_per_hundred_t-7'].groupby(model_data['state']).transform(lambda s: s.rolling(3).mean())"
   ]
  },
  {
   "cell_type": "code",
   "execution_count": 12,
   "metadata": {},
   "outputs": [
    {
     "name": "stderr",
     "output_type": "stream",
     "text": [
      "<ipython-input-12-477355801f66>:3: SettingWithCopyWarning: \n",
      "A value is trying to be set on a copy of a slice from a DataFrame.\n",
      "Try using .loc[row_indexer,col_indexer] = value instead\n",
      "\n",
      "See the caveats in the documentation: https://pandas.pydata.org/pandas-docs/stable/user_guide/indexing.html#returning-a-view-versus-a-copy\n",
      "  model_data['people_vaccinated_per_hundred_t-7'] = model_data['people_vaccinated_per_hundred'].groupby(model_data['state']).shift(periods=7)\n"
     ]
    }
   ],
   "source": [
    "#number of people vaccinated 7 days behind\n",
    "\n",
    "model_data['people_vaccinated_per_hundred_t-7'] = model_data['people_vaccinated_per_hundred'].groupby(model_data['state']).shift(periods=7)"
   ]
  },
  {
   "cell_type": "code",
   "execution_count": 13,
   "metadata": {
    "scrolled": true
   },
   "outputs": [
    {
     "data": {
      "text/plain": [
       "521"
      ]
     },
     "execution_count": 13,
     "metadata": {},
     "output_type": "execute_result"
    }
   ],
   "source": [
    "#number of total unique dates\n",
    "\n",
    "model_data['date'].nunique()"
   ]
  },
  {
   "cell_type": "code",
   "execution_count": 14,
   "metadata": {},
   "outputs": [
    {
     "data": {
      "text/plain": [
       "164"
      ]
     },
     "execution_count": 14,
     "metadata": {},
     "output_type": "execute_result"
    }
   ],
   "source": [
    "#number of unique dates since vaccinations\n",
    "\n",
    "model_data[model_data['people_vaccinated_per_hundred'].notnull()]['date'].nunique()"
   ]
  },
  {
   "cell_type": "code",
   "execution_count": 15,
   "metadata": {},
   "outputs": [
    {
     "name": "stderr",
     "output_type": "stream",
     "text": [
      "C:\\Users\\USFK04487\\Anaconda3\\lib\\site-packages\\pandas\\core\\generic.py:5159: SettingWithCopyWarning: \n",
      "A value is trying to be set on a copy of a slice from a DataFrame.\n",
      "Try using .loc[row_indexer,col_indexer] = value instead\n",
      "\n",
      "See the caveats in the documentation: https://pandas.pydata.org/pandas-docs/stable/user_guide/indexing.html#returning-a-view-versus-a-copy\n",
      "  self[name] = value\n"
     ]
    }
   ],
   "source": [
    "#find the first date with vaccination data (2021-01-12)\n",
    "\n",
    "model_data.date = pd.to_datetime(model_data.date)\n",
    "first = model_data[model_data['people_vaccinated_per_hundred'].notnull()]['date'].take([0])"
   ]
  },
  {
   "cell_type": "code",
   "execution_count": 16,
   "metadata": {},
   "outputs": [
    {
     "data": {
      "text/plain": [
       "17339   2021-04-22\n",
       "Name: date, dtype: datetime64[ns]"
      ]
     },
     "execution_count": 16,
     "metadata": {},
     "output_type": "execute_result"
    }
   ],
   "source": [
    "#find the 100th date with vaccination data (to be used for training set)\n",
    "\n",
    "first + timedelta(days=100)"
   ]
  },
  {
   "cell_type": "code",
   "execution_count": 17,
   "metadata": {},
   "outputs": [
    {
     "name": "stderr",
     "output_type": "stream",
     "text": [
      "C:\\Users\\USFK04487\\Anaconda3\\lib\\site-packages\\pandas\\core\\frame.py:4314: SettingWithCopyWarning: \n",
      "A value is trying to be set on a copy of a slice from a DataFrame\n",
      "\n",
      "See the caveats in the documentation: https://pandas.pydata.org/pandas-docs/stable/user_guide/indexing.html#returning-a-view-versus-a-copy\n",
      "  return super().fillna(\n"
     ]
    }
   ],
   "source": [
    "#fill all remaining missing values in dataframe with 0\n",
    "\n",
    "model_data.fillna(value=0, inplace=True)"
   ]
  },
  {
   "cell_type": "code",
   "execution_count": 18,
   "metadata": {},
   "outputs": [],
   "source": [
    "#add first 100 days of vaccination data to training set, rest to testing set\n",
    "\n",
    "train = model_data.loc[model_data['date']<='2021-04-22']\n",
    "test = model_data.loc[model_data['date']>'2021-04-22']"
   ]
  },
  {
   "cell_type": "code",
   "execution_count": 19,
   "metadata": {},
   "outputs": [],
   "source": [
    "#split train and test into X and y\n",
    "\n",
    "X_train = train[['new_cases_per_hundred_t-7', 'people_vaccinated_per_hundred_t-7', 'new_cases_per_hundred_rolling_7', 'new_cases_per_hundred_rolling_3']]\n",
    "X_test = test[['new_cases_per_hundred_t-7', 'people_vaccinated_per_hundred_t-7', 'new_cases_per_hundred_rolling_7', 'new_cases_per_hundred_rolling_3']]\n",
    "y_train = train['new_cases_per_hundred']\n",
    "y_test = test['new_cases_per_hundred']"
   ]
  },
  {
   "cell_type": "markdown",
   "metadata": {},
   "source": [
    "Modeling Section"
   ]
  },
  {
   "cell_type": "code",
   "execution_count": 20,
   "metadata": {},
   "outputs": [],
   "source": [
    "#We will try various regression models from sklearn, including:\n",
    "#KNeighborsRegressor\n",
    "#DecisionTreeRegressor\n",
    "#ExtraTreeRegressor\n",
    "#SVR\n",
    "#AdaBoostRegressor\n",
    "#BaggingRegressor\n",
    "#RandomForestRegressor\n",
    "#GradientBoostingRegressor"
   ]
  },
  {
   "cell_type": "code",
   "execution_count": 21,
   "metadata": {},
   "outputs": [],
   "source": [
    "#import the models\n",
    "\n",
    "from sklearn.neighbors import KNeighborsRegressor\n",
    "from sklearn.tree import DecisionTreeRegressor\n",
    "from sklearn.tree import ExtraTreeRegressor\n",
    "from sklearn.svm import SVR\n",
    "from sklearn.ensemble import AdaBoostRegressor\n",
    "from sklearn.ensemble import BaggingRegressor\n",
    "from sklearn.ensemble import RandomForestRegressor\n",
    "from sklearn.ensemble import ExtraTreesRegressor\n",
    "from sklearn.ensemble import GradientBoostingRegressor"
   ]
  },
  {
   "cell_type": "code",
   "execution_count": 22,
   "metadata": {},
   "outputs": [],
   "source": [
    "#create dictionary containing all of the models\n",
    "#write a function that fits and predicts on all of the models in the dictionary and saves the predicted values into a dataframe\n",
    "#and the errors into a dictionary\n",
    "\n",
    "from sklearn.metrics import mean_absolute_error\n",
    "\n",
    "n_trees=100\n",
    "models = {'knn': KNeighborsRegressor(), 'dec': DecisionTreeRegressor(), 'extra': ExtraTreeRegressor(), 'svr': SVR(),\n",
    "          'ada': AdaBoostRegressor(n_estimators=n_trees), 'bag': BaggingRegressor(n_estimators=n_trees),\n",
    "          'rf': RandomForestRegressor(n_estimators=n_trees), 'et': ExtraTreesRegressor(n_estimators=n_trees),\n",
    "          'gbm': GradientBoostingRegressor(n_estimators=n_trees)}\n",
    "\n",
    "#def mean_absolute_percentage_error(y_true, y_pred):\n",
    "#    return np.mean(np.abs((y_true - y_pred) / y_true)) * 100\n",
    "\n",
    "predictions = pd.DataFrame()\n",
    "absolute_errors = {}\n",
    "#percentage_errors = {}\n",
    "\n",
    "for name, model in models.items():\n",
    "    local_model = model.fit(X_train, y_train)\n",
    "    y_pred = local_model.predict(X_test)\n",
    "    mae = mean_absolute_error(y_test, y_pred)\n",
    "#    mpe = mean_absolute_percentage_error(y_test, y_pred)\n",
    "    predictions[name] = y_pred\n",
    "    absolute_errors[name] = mae\n",
    "#    percentage_errors[name] = mpe"
   ]
  },
  {
   "cell_type": "code",
   "execution_count": 23,
   "metadata": {},
   "outputs": [
    {
     "data": {
      "text/plain": [
       "{'knn': 0.015102892413590247,\n",
       " 'dec': 0.00552388356821938,\n",
       " 'extra': 0.005843507546636221,\n",
       " 'svr': 0.09292815512556882,\n",
       " 'ada': 0.008630107335178747,\n",
       " 'bag': 0.0043015872848086315,\n",
       " 'rf': 0.004466940807527917,\n",
       " 'et': 0.004139041821561676,\n",
       " 'gbm': 0.0036414341742808235}"
      ]
     },
     "execution_count": 23,
     "metadata": {},
     "output_type": "execute_result"
    }
   ],
   "source": [
    "#check the maes for each of the models and determine the lowest\n",
    "\n",
    "absolute_errors"
   ]
  },
  {
   "cell_type": "code",
   "execution_count": 24,
   "metadata": {},
   "outputs": [],
   "source": [
    "#Gradient Boosting seems to result in the lowest MAE"
   ]
  },
  {
   "cell_type": "code",
   "execution_count": 25,
   "metadata": {},
   "outputs": [
    {
     "data": {
      "text/plain": [
       "0.008051444906903496"
      ]
     },
     "execution_count": 25,
     "metadata": {},
     "output_type": "execute_result"
    }
   ],
   "source": [
    "#why is the mean of y_test so low? does this mean the errors are really high?\n",
    "\n",
    "np.mean(test['new_cases_per_hundred'])"
   ]
  }
 ],
 "metadata": {
  "kernelspec": {
   "display_name": "Python 3",
   "language": "python",
   "name": "python3"
  },
  "language_info": {
   "codemirror_mode": {
    "name": "ipython",
    "version": 3
   },
   "file_extension": ".py",
   "mimetype": "text/x-python",
   "name": "python",
   "nbconvert_exporter": "python",
   "pygments_lexer": "ipython3",
   "version": "3.8.5"
  }
 },
 "nbformat": 4,
 "nbformat_minor": 4
}
